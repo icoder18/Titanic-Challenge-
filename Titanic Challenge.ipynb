{
 "cells": [
  {
   "cell_type": "code",
   "execution_count": 1,
   "metadata": {},
   "outputs": [],
   "source": [
    "import pandas as pd\n",
    "import numpy as np\n",
    "import matplotlib.pyplot as plt\n",
    "import seaborn as sns"
   ]
  },
  {
   "cell_type": "markdown",
   "metadata": {},
   "source": [
    "# 1. Loading Data"
   ]
  },
  {
   "cell_type": "code",
   "execution_count": 2,
   "metadata": {},
   "outputs": [],
   "source": [
    "train=pd.read_csv('Train.csv')\n",
    "test=pd.read_csv('Test.csv')"
   ]
  },
  {
   "cell_type": "code",
   "execution_count": 3,
   "metadata": {},
   "outputs": [
    {
     "data": {
      "text/html": [
       "<div>\n",
       "<style scoped>\n",
       "    .dataframe tbody tr th:only-of-type {\n",
       "        vertical-align: middle;\n",
       "    }\n",
       "\n",
       "    .dataframe tbody tr th {\n",
       "        vertical-align: top;\n",
       "    }\n",
       "\n",
       "    .dataframe thead th {\n",
       "        text-align: right;\n",
       "    }\n",
       "</style>\n",
       "<table border=\"1\" class=\"dataframe\">\n",
       "  <thead>\n",
       "    <tr style=\"text-align: right;\">\n",
       "      <th></th>\n",
       "      <th>pclass</th>\n",
       "      <th>survived</th>\n",
       "      <th>name</th>\n",
       "      <th>sex</th>\n",
       "      <th>age</th>\n",
       "      <th>sibsp</th>\n",
       "      <th>parch</th>\n",
       "      <th>ticket</th>\n",
       "      <th>fare</th>\n",
       "      <th>cabin</th>\n",
       "      <th>embarked</th>\n",
       "      <th>boat</th>\n",
       "      <th>body</th>\n",
       "      <th>home.dest</th>\n",
       "    </tr>\n",
       "  </thead>\n",
       "  <tbody>\n",
       "    <tr>\n",
       "      <th>0</th>\n",
       "      <td>3.0</td>\n",
       "      <td>0.0</td>\n",
       "      <td>O'Donoghue, Ms. Bridget</td>\n",
       "      <td>female</td>\n",
       "      <td>NaN</td>\n",
       "      <td>0.0</td>\n",
       "      <td>0.0</td>\n",
       "      <td>364856</td>\n",
       "      <td>7.750</td>\n",
       "      <td>NaN</td>\n",
       "      <td>Q</td>\n",
       "      <td>NaN</td>\n",
       "      <td>NaN</td>\n",
       "      <td>NaN</td>\n",
       "    </tr>\n",
       "    <tr>\n",
       "      <th>1</th>\n",
       "      <td>2.0</td>\n",
       "      <td>0.0</td>\n",
       "      <td>Morley, Mr. Henry Samuel (\"Mr Henry Marshall\")</td>\n",
       "      <td>male</td>\n",
       "      <td>39.0</td>\n",
       "      <td>0.0</td>\n",
       "      <td>0.0</td>\n",
       "      <td>250655</td>\n",
       "      <td>26.000</td>\n",
       "      <td>NaN</td>\n",
       "      <td>S</td>\n",
       "      <td>NaN</td>\n",
       "      <td>NaN</td>\n",
       "      <td>NaN</td>\n",
       "    </tr>\n",
       "    <tr>\n",
       "      <th>2</th>\n",
       "      <td>2.0</td>\n",
       "      <td>1.0</td>\n",
       "      <td>Smith, Miss. Marion Elsie</td>\n",
       "      <td>female</td>\n",
       "      <td>40.0</td>\n",
       "      <td>0.0</td>\n",
       "      <td>0.0</td>\n",
       "      <td>31418</td>\n",
       "      <td>13.000</td>\n",
       "      <td>NaN</td>\n",
       "      <td>S</td>\n",
       "      <td>9</td>\n",
       "      <td>NaN</td>\n",
       "      <td>NaN</td>\n",
       "    </tr>\n",
       "    <tr>\n",
       "      <th>3</th>\n",
       "      <td>3.0</td>\n",
       "      <td>1.0</td>\n",
       "      <td>Goldsmith, Mrs. Frank John (Emily Alice Brown)</td>\n",
       "      <td>female</td>\n",
       "      <td>31.0</td>\n",
       "      <td>1.0</td>\n",
       "      <td>1.0</td>\n",
       "      <td>363291</td>\n",
       "      <td>20.525</td>\n",
       "      <td>NaN</td>\n",
       "      <td>S</td>\n",
       "      <td>C D</td>\n",
       "      <td>NaN</td>\n",
       "      <td>Strood, Kent, England Detroit, MI</td>\n",
       "    </tr>\n",
       "    <tr>\n",
       "      <th>4</th>\n",
       "      <td>3.0</td>\n",
       "      <td>1.0</td>\n",
       "      <td>McCoy, Miss. Agnes</td>\n",
       "      <td>female</td>\n",
       "      <td>NaN</td>\n",
       "      <td>2.0</td>\n",
       "      <td>0.0</td>\n",
       "      <td>367226</td>\n",
       "      <td>23.250</td>\n",
       "      <td>NaN</td>\n",
       "      <td>Q</td>\n",
       "      <td>16</td>\n",
       "      <td>NaN</td>\n",
       "      <td>NaN</td>\n",
       "    </tr>\n",
       "  </tbody>\n",
       "</table>\n",
       "</div>"
      ],
      "text/plain": [
       "   pclass  survived                                            name     sex  \\\n",
       "0     3.0       0.0                         O'Donoghue, Ms. Bridget  female   \n",
       "1     2.0       0.0  Morley, Mr. Henry Samuel (\"Mr Henry Marshall\")    male   \n",
       "2     2.0       1.0                       Smith, Miss. Marion Elsie  female   \n",
       "3     3.0       1.0  Goldsmith, Mrs. Frank John (Emily Alice Brown)  female   \n",
       "4     3.0       1.0                              McCoy, Miss. Agnes  female   \n",
       "\n",
       "    age  sibsp  parch  ticket    fare cabin embarked boat  body  \\\n",
       "0   NaN    0.0    0.0  364856   7.750   NaN        Q  NaN   NaN   \n",
       "1  39.0    0.0    0.0  250655  26.000   NaN        S  NaN   NaN   \n",
       "2  40.0    0.0    0.0   31418  13.000   NaN        S    9   NaN   \n",
       "3  31.0    1.0    1.0  363291  20.525   NaN        S  C D   NaN   \n",
       "4   NaN    2.0    0.0  367226  23.250   NaN        Q   16   NaN   \n",
       "\n",
       "                           home.dest  \n",
       "0                                NaN  \n",
       "1                                NaN  \n",
       "2                                NaN  \n",
       "3  Strood, Kent, England Detroit, MI  \n",
       "4                                NaN  "
      ]
     },
     "execution_count": 3,
     "metadata": {},
     "output_type": "execute_result"
    }
   ],
   "source": [
    "train.head()"
   ]
  },
  {
   "cell_type": "markdown",
   "metadata": {},
   "source": [
    "# 2. Analysing Data"
   ]
  },
  {
   "cell_type": "markdown",
   "metadata": {},
   "source": [
    "## 2.1. Overview"
   ]
  },
  {
   "cell_type": "code",
   "execution_count": 4,
   "metadata": {},
   "outputs": [
    {
     "name": "stdout",
     "output_type": "stream",
     "text": [
      "<class 'pandas.core.frame.DataFrame'>\n",
      "RangeIndex: 1009 entries, 0 to 1008\n",
      "Data columns (total 14 columns):\n",
      " #   Column     Non-Null Count  Dtype  \n",
      "---  ------     --------------  -----  \n",
      " 0   pclass     1009 non-null   float64\n",
      " 1   survived   1009 non-null   float64\n",
      " 2   name       1009 non-null   object \n",
      " 3   sex        1009 non-null   object \n",
      " 4   age        812 non-null    float64\n",
      " 5   sibsp      1009 non-null   float64\n",
      " 6   parch      1009 non-null   float64\n",
      " 7   ticket     1009 non-null   object \n",
      " 8   fare       1008 non-null   float64\n",
      " 9   cabin      229 non-null    object \n",
      " 10  embarked   1008 non-null   object \n",
      " 11  boat       374 non-null    object \n",
      " 12  body       98 non-null     float64\n",
      " 13  home.dest  582 non-null    object \n",
      "dtypes: float64(7), object(7)\n",
      "memory usage: 110.5+ KB\n"
     ]
    }
   ],
   "source": [
    "train.info()"
   ]
  },
  {
   "cell_type": "code",
   "execution_count": 5,
   "metadata": {},
   "outputs": [
    {
     "data": {
      "text/plain": [
       "(array([1., 2., 3.]), array([247, 217, 545], dtype=int64))"
      ]
     },
     "execution_count": 5,
     "metadata": {},
     "output_type": "execute_result"
    }
   ],
   "source": [
    "np.unique(train['pclass'],return_counts=True)"
   ]
  },
  {
   "cell_type": "code",
   "execution_count": 6,
   "metadata": {},
   "outputs": [
    {
     "data": {
      "text/plain": [
       "(array(['female', 'male'], dtype=object), array([361, 648], dtype=int64))"
      ]
     },
     "execution_count": 6,
     "metadata": {},
     "output_type": "execute_result"
    }
   ],
   "source": [
    "np.unique(train['sex'],return_counts=True)"
   ]
  },
  {
   "cell_type": "code",
   "execution_count": 7,
   "metadata": {},
   "outputs": [
    {
     "data": {
      "text/plain": [
       "(array([0., 1., 2., 3., 4., 5., 8.]),\n",
       " array([676, 255,  30,  17,  19,   4,   8], dtype=int64))"
      ]
     },
     "execution_count": 7,
     "metadata": {},
     "output_type": "execute_result"
    }
   ],
   "source": [
    "np.unique(train['sibsp'],return_counts=True)"
   ]
  },
  {
   "cell_type": "code",
   "execution_count": 8,
   "metadata": {},
   "outputs": [
    {
     "data": {
      "text/plain": [
       "(array([0., 1., 2., 3., 4., 5., 6., 9.]),\n",
       " array([766, 139,  84,   7,   5,   4,   2,   2], dtype=int64))"
      ]
     },
     "execution_count": 8,
     "metadata": {},
     "output_type": "execute_result"
    }
   ],
   "source": [
    "np.unique(train['parch'],return_counts=True)"
   ]
  },
  {
   "cell_type": "code",
   "execution_count": 9,
   "metadata": {},
   "outputs": [
    {
     "data": {
      "text/plain": [
       "0                364856\n",
       "1                250655\n",
       "2                 31418\n",
       "3                363291\n",
       "4                367226\n",
       "             ...       \n",
       "1004             112277\n",
       "1005               4135\n",
       "1006              35273\n",
       "1007               2651\n",
       "1008    SOTON/OQ 392090\n",
       "Name: ticket, Length: 1009, dtype: object"
      ]
     },
     "execution_count": 9,
     "metadata": {},
     "output_type": "execute_result"
    }
   ],
   "source": [
    "train['ticket']"
   ]
  },
  {
   "cell_type": "code",
   "execution_count": 10,
   "metadata": {},
   "outputs": [
    {
     "data": {
      "text/plain": [
       "count    1008.000000\n",
       "mean       33.647412\n",
       "std        51.452123\n",
       "min         0.000000\n",
       "25%         7.895800\n",
       "50%        14.458300\n",
       "75%        31.387500\n",
       "max       512.329200\n",
       "Name: fare, dtype: float64"
      ]
     },
     "execution_count": 10,
     "metadata": {},
     "output_type": "execute_result"
    }
   ],
   "source": [
    "train['fare'].describe()"
   ]
  },
  {
   "cell_type": "code",
   "execution_count": 11,
   "metadata": {},
   "outputs": [
    {
     "data": {
      "text/plain": [
       "7        D17\n",
       "8        B10\n",
       "15      C128\n",
       "16       C68\n",
       "20      C101\n",
       "        ... \n",
       "993      D19\n",
       "999      C99\n",
       "1002     E33\n",
       "1004     A31\n",
       "1006     D36\n",
       "Name: cabin, Length: 229, dtype: object"
      ]
     },
     "execution_count": 11,
     "metadata": {},
     "output_type": "execute_result"
    }
   ],
   "source": [
    "train[train['cabin'].notna()]['cabin']"
   ]
  },
  {
   "cell_type": "code",
   "execution_count": 12,
   "metadata": {},
   "outputs": [
    {
     "data": {
      "text/plain": [
       "(array(['A14', 'A16', 'A18', 'A19', 'A20', 'A21', 'A23', 'A24', 'A26',\n",
       "        'A29', 'A31', 'A34', 'A5', 'A9', 'B10', 'B102', 'B18', 'B19',\n",
       "        'B22', 'B24', 'B26', 'B28', 'B3', 'B30', 'B35', 'B36', 'B37',\n",
       "        'B38', 'B41', 'B42', 'B45', 'B49', 'B5', 'B50', 'B51 B53 B55',\n",
       "        'B52 B54 B56', 'B57 B59 B63 B66', 'B58 B60', 'B61', 'B69', 'B71',\n",
       "        'B73', 'B77', 'B78', 'B79', 'B82 B84', 'B96 B98', 'C101', 'C103',\n",
       "        'C106', 'C110', 'C111', 'C116', 'C118', 'C123', 'C124', 'C125',\n",
       "        'C126', 'C128', 'C130', 'C132', 'C148', 'C2', 'C22 C26',\n",
       "        'C23 C25 C27', 'C28', 'C31', 'C32', 'C45', 'C46', 'C47', 'C49',\n",
       "        'C50', 'C51', 'C52', 'C54', 'C55 C57', 'C6', 'C62 C64', 'C65',\n",
       "        'C68', 'C7', 'C78', 'C80', 'C82', 'C85', 'C86', 'C87', 'C89',\n",
       "        'C90', 'C91', 'C92', 'C93', 'C95', 'C99', 'D', 'D10 D12', 'D11',\n",
       "        'D15', 'D17', 'D19', 'D20', 'D21', 'D22', 'D26', 'D28', 'D30',\n",
       "        'D33', 'D34', 'D35', 'D36', 'D37', 'D38', 'D40', 'D46', 'D48',\n",
       "        'D49', 'D56', 'D6', 'D9', 'E10', 'E101', 'E12', 'E121', 'E17',\n",
       "        'E24', 'E25', 'E31', 'E33', 'E38', 'E39 E41', 'E40', 'E44', 'E45',\n",
       "        'E46', 'E50', 'E52', 'E58', 'E63', 'E67', 'E68', 'E77', 'E8', 'F',\n",
       "        'F E46', 'F E57', 'F E69', 'F G63', 'F G73', 'F2', 'F33', 'F38',\n",
       "        'F4', 'G6', 'T'], dtype=object),\n",
       " array([1, 1, 1, 1, 1, 1, 1, 1, 1, 1, 1, 3, 1, 1, 1, 1, 2, 1, 2, 1, 1, 1,\n",
       "        1, 1, 1, 1, 1, 1, 2, 1, 1, 2, 2, 1, 2, 1, 2, 1, 1, 1, 1, 1, 2, 2,\n",
       "        1, 1, 3, 2, 1, 1, 1, 1, 2, 1, 1, 2, 2, 1, 1, 1, 1, 1, 2, 4, 5, 1,\n",
       "        2, 2, 1, 2, 1, 1, 1, 1, 2, 2, 2, 2, 2, 2, 2, 2, 4, 2, 1, 1, 2, 1,\n",
       "        2, 1, 1, 2, 1, 1, 1, 3, 1, 1, 1, 2, 2, 2, 2, 1, 2, 2, 1, 2, 1, 2,\n",
       "        2, 1, 1, 1, 1, 1, 1, 1, 1, 1, 1, 2, 1, 2, 1, 2, 1, 2, 2, 1, 1, 1,\n",
       "        2, 1, 2, 1, 1, 1, 1, 2, 1, 1, 2, 1, 1, 1, 1, 1, 1, 3, 3, 1, 4, 5,\n",
       "        1], dtype=int64))"
      ]
     },
     "execution_count": 12,
     "metadata": {},
     "output_type": "execute_result"
    }
   ],
   "source": [
    "np.unique(train[train['cabin'].notna()]['cabin'],return_counts=True)"
   ]
  },
  {
   "cell_type": "code",
   "execution_count": 13,
   "metadata": {},
   "outputs": [
    {
     "data": {
      "text/plain": [
       "array(['Q', 'S', 'C', nan], dtype=object)"
      ]
     },
     "execution_count": 13,
     "metadata": {},
     "output_type": "execute_result"
    }
   ],
   "source": [
    "train['embarked'].unique()"
   ]
  },
  {
   "cell_type": "code",
   "execution_count": 14,
   "metadata": {},
   "outputs": [
    {
     "data": {
      "text/plain": [
       "array([nan, '9', 'C D', '16', '8', '13', '14', '4', '2', 'B', '12', '15',\n",
       "       '1', '5 9', 'C', '10', '5', '3', '7', '11', 'D', '6', 'A', '13 15',\n",
       "       '5 7', '13 15 B'], dtype=object)"
      ]
     },
     "execution_count": 14,
     "metadata": {},
     "output_type": "execute_result"
    }
   ],
   "source": [
    "train['boat'].unique()"
   ]
  },
  {
   "cell_type": "code",
   "execution_count": 15,
   "metadata": {},
   "outputs": [
    {
     "data": {
      "text/plain": [
       "array([ nan, 208.,  61., 130.,  43., 175., 314., 287., 269., 249.,  89.,\n",
       "       155., 124., 122., 133., 230.,  14.,  79.,  51., 234., 181., 236.,\n",
       "       173., 171., 169., 286., 292.,  52., 328., 165.,  18.,  37., 294.,\n",
       "       172., 293.,  67.,  15., 149.,  53., 327., 166.,  72.,  68., 245.,\n",
       "       306., 206.,  69., 263., 201., 119.,  19., 284.,  50.,   7., 153.,\n",
       "         1., 207.,  97., 135., 298., 147., 174., 131., 190., 101., 259.,\n",
       "       283.,  58., 187., 299.,  45.,   4., 156., 309., 258., 126., 188.,\n",
       "       285.,  80., 305.,  17., 255.,  62., 261.,  32., 143., 256., 232.,\n",
       "        38., 176.,  96., 121., 297., 148., 304.,  81., 275.,  70., 260.])"
      ]
     },
     "execution_count": 15,
     "metadata": {},
     "output_type": "execute_result"
    }
   ],
   "source": [
    "train['body'].unique()"
   ]
  },
  {
   "cell_type": "code",
   "execution_count": 16,
   "metadata": {},
   "outputs": [
    {
     "data": {
      "text/plain": [
       "array([nan, 'Strood, Kent, England Detroit, MI',\n",
       "       'Liverpool / Montreal, PQ', 'Ilfracombe, Devon', 'New York, NY',\n",
       "       'Omaha, NE', 'West Hampstead, London / Neepawa, MB',\n",
       "       'St Ives, Cornwall / Hancock, MI', 'London, England',\n",
       "       'Haverford, PA', 'Hessle, Yorks',\n",
       "       'Berne, Switzerland / Central City, IA', 'Spain', 'Bronx, NY',\n",
       "       'Washington, DC', 'Rotherfield, Sussex, England Essex Co, MA',\n",
       "       'Ireland', 'Dorchester, MA', 'Lima, Peru', 'Cornwall / Akron, OH',\n",
       "       'Lyndhurst, England', 'Oskarshamn, Sweden Minneapolis, MN',\n",
       "       'London  Vancouver, BC', 'London',\n",
       "       'Bristol, Avon / Jacksonville, FL', 'Zurich, Switzerland',\n",
       "       'Ruotsinphytaa, Finland New York, NY',\n",
       "       'New York, NY / Greenwich CT', 'Glasgow', 'Milwaukee, WI',\n",
       "       'Ireland Chicago, IL', 'Deephaven, MN / Cedar Rapids, IA',\n",
       "       'Bridgerule, Devon', 'Sweden Joliet, IL', 'East Bridgewater, MA',\n",
       "       'Cooperstown, NY', 'Oslo, Norway Cameron, WI',\n",
       "       'Mt Airy, Philadelphia, PA', 'Clevedon, England',\n",
       "       'Austria-Hungary / Germantown, Philadelphia, PA',\n",
       "       'Liverpool, England / Belfast', 'Fond du Lac, WI', 'Lexington, MA',\n",
       "       'Portland, OR', 'Moscow / Bronx, NY', 'Philadelphia, PA',\n",
       "       'Somerset / Bernardsville, NJ', 'Belfast', 'Syria',\n",
       "       'Co Limerick, Ireland Sherbrooke, PQ',\n",
       "       'Guntur, India / Benton Harbour, MI',\n",
       "       'Skara, Sweden / Rockford, IL', 'Ireland New York, NY',\n",
       "       'Co Athlone, Ireland New York, NY', 'Spain / Havana, Cuba',\n",
       "       'Argentina', 'Paris / Haiti', 'Bournmouth, England',\n",
       "       'Manchester, England', 'Montreal, PQ / Chesterville, ON',\n",
       "       'Paris, France', 'Lakewood, NJ', 'Devon, England Wichita, KS',\n",
       "       'Paris', 'Montreal, PQ', 'New York, NY / Ithaca, NY',\n",
       "       'Effington Rut, SD', 'Austria', 'Sweden Winnipeg, MN',\n",
       "       'England / Sacramento, CA', 'Bristol, England / New Britain, CT',\n",
       "       'Los Angeles, CA', 'Cincinatti, OH', 'Indianapolis, IN',\n",
       "       'England Oglesby, IL', 'Ilford, Essex / Winnipeg, MB',\n",
       "       'East Orange, NJ', 'Brooklyn, NY', 'Austria Niagara Falls, NY',\n",
       "       'Providence, RI', 'Dagsas, Sweden Fower, MN',\n",
       "       'Kingwilliamstown, Co Cork, Ireland New York, NY', 'St Louis, MO',\n",
       "       'Mamaroneck, NY',\n",
       "       'Lower Clapton, Middlesex or Erdington, Birmingham',\n",
       "       'Rochester, NY', 'Penzance, Cornwall / Akron, OH',\n",
       "       'Harrow-on-the-Hill, Middlesex', 'Brunswick, ME',\n",
       "       'Stockholm, Sweden / Washington, DC', 'Newark, NJ',\n",
       "       'Tofta, Sweden Joliet, IL', 'England / Philadelphia, PA',\n",
       "       'Trenton, NJ', 'Cornwall / Spokane, WA', 'Austria-Hungary',\n",
       "       'Greece', 'Ottawa, ON', 'Vancouver, BC',\n",
       "       'Southampton / New York, NY', 'Italy Philadelphia, PA',\n",
       "       'Bulgaria Chicago, IL',\n",
       "       'Wimbledon Park, London / Hayling Island, Hants',\n",
       "       'Warwick, England', 'London / Montreal, PQ',\n",
       "       'Bangkok, Thailand / Roseville, IL', 'Ireland Brooklyn, NY',\n",
       "       'Bryn Mawr, PA', 'Sweden / Arlington, NJ', 'London / Paris',\n",
       "       'Antwerp, Belgium / Stanton, OH', 'Middleburg Heights, OH',\n",
       "       'Barre, Co Washington, VT', 'St Ives, Cornwall / Calumet, MI',\n",
       "       'New Forest, England', 'Goteborg, Sweden / Rockford, IL',\n",
       "       'Youngstown, OH', 'Syria Youngstown, OH', 'Altdorf, Switzerland',\n",
       "       'Boston, MA', 'Portugal', 'Streatham, Surrey', 'Syria Kent, ON',\n",
       "       'Winnipeg, MN', 'St Ives, Cornwall / Houghton, MI',\n",
       "       'Little Onn Hall, Staffs', 'Russia', 'Sweden Worcester, MA',\n",
       "       'Haverford, PA / Cooperstown, NY', 'Roachdale, IN',\n",
       "       'Paris, France / New York, NY', 'Cambridge, MA',\n",
       "       'Plymouth, England', 'Greenport, NY',\n",
       "       'Cape Town, South Africa / Seattle, WA', 'England Brooklyn, NY',\n",
       "       'Bromsgrove, England / Montreal, PQ',\n",
       "       'Ruotsinphyhtaa, Finland New York, NY', 'Hudson, NY',\n",
       "       'New York, NY / Washington, DC', 'St Austall, Cornwall',\n",
       "       'Birkdale, England Cleveland, Ohio', 'Nice, France', 'Southampton',\n",
       "       'Detroit, MI', 'Isleworth, England', 'Montevideo, Uruguay',\n",
       "       'Wiltshire, England Niagara Falls, NY', 'Cornwall / Houghton, MI',\n",
       "       'Plymouth, Dorset / Houghton, MI', 'Vadsbro, Sweden Ministee, MI',\n",
       "       'Syria New York, NY', 'Surbiton Hill, Surrey',\n",
       "       'Asarum, Sweden Brooklyn, NY', 'Denmark / New York, NY',\n",
       "       'Co Clare, Ireland Washington, DC',\n",
       "       'Aughnacliff, Co Longford, Ireland New York, NY',\n",
       "       'England / Hartford, CT', 'San Francisco, CA', 'Scituate, MA',\n",
       "       'Elizabeth, NJ', 'Liverpool, England Bedford, OH',\n",
       "       'Krakoryd, Sweden Bloomington, IL', 'London / Staten Island, NY',\n",
       "       'England New York, NY', 'Guernsey / Elizabeth, NJ',\n",
       "       'Hong Kong New York, NY', 'Portugal / Sau Paulo, Brazil',\n",
       "       'Westcliff-on-Sea, Essex', 'Halifax, NS', 'Hamilton, ON',\n",
       "       'Merrill, WI', 'West Bromwich, England Pontiac, MI',\n",
       "       'Greensburg, PA', 'Cornwall / Camden, NJ',\n",
       "       'Isle of Wight, England', 'Liverpool', 'Madrid, Spain',\n",
       "       'Walthamstow, England', 'England / Detroit, MI', 'Provo, UT',\n",
       "       'Karberg, Sweden Jerome Junction, AZ',\n",
       "       'Treherbert, Cardiff, Wales', 'Sweden  Worcester, MA',\n",
       "       'Worcester, MA', 'Southington / Noank, CT', 'Southsea, Hants',\n",
       "       'Gallipolis, Ohio / ? Paris / New York', 'Waukegan, Chicago, IL',\n",
       "       'Paris, France New York, NY', 'Co Longford, Ireland New York, NY',\n",
       "       'Guernsey / Wilmington, DE', 'Belgium  Montreal, PQ',\n",
       "       'Bayside, Queens, NY', 'Bulgaria Coon Rapids, IA',\n",
       "       'Woodford County, KY', 'Dowagiac, MI', 'Amenia, ND',\n",
       "       'Elkins Park, PA', 'Sweden Akeley, MN', 'East Providence, RI',\n",
       "       'Duluth, MN', 'England', 'Barcelona, Spain / Havana, Cuba',\n",
       "       'Paris / Montreal, PQ', 'Winnipeg, MB', 'Jacksonville, FL',\n",
       "       'London Brooklyn, NY', 'Deer Lodge, MT', 'London / Chicago, IL',\n",
       "       'West Haven, CT', 'London / New York, NY', 'Stoughton, MA',\n",
       "       'Guernsey', 'Brighton, MA', 'Minneapolis, MN', 'Chicago, IL',\n",
       "       'London / Winnipeg, MB', 'Cornwall / Hancock, MI',\n",
       "       'Worcester, England', 'Perkins County, SD',\n",
       "       'Yoevil, England / Cottage Grove, OR',\n",
       "       'Upper Burma, India Pittsburgh, PA', 'Brookline, MA',\n",
       "       'Basel, Switzerland', 'Stanton, IA',\n",
       "       'Windsor, England New York, NY', 'Illinois, USA',\n",
       "       'Geneva, Switzerland / Radnor, PA',\n",
       "       'New York, NY / Briarcliff Manor NY', 'Tokyo, Japan',\n",
       "       'Syria Ottawa, ON', 'London / Fort Byron, NY',\n",
       "       'Bridgwater, Somerset, England', 'Glasgow / Bangor, ME',\n",
       "       'Co Cork, Ireland Roxbury, MA', 'Greenwich, CT',\n",
       "       'Plymouth, Devon / Detroit, MI', 'England / San Francisco, CA',\n",
       "       'Buffalo, NY', 'Guernsey, England / Edgewood, RI', 'Frankfort, KY',\n",
       "       'Sweden Chicago, IL', 'Springfield, MA',\n",
       "       'Cornwall, England Houghton, MI', 'Bennington, VT',\n",
       "       'Ascot, Berkshire / Rochester, NY', 'Finland / Washington, DC',\n",
       "       'Pennsylvania', 'Victoria, BC', 'Oslo, Norway Bayonne, NJ',\n",
       "       'London Skanteales, NY', 'Co Sligo, Ireland New York, NY',\n",
       "       'Brighton, Sussex', 'St Andrews, Guernsey',\n",
       "       'India / Pittsburgh, PA', 'Denmark Hill, Surrey / Chicago',\n",
       "       'Rotterdam, Netherlands', 'Cornwall',\n",
       "       'St Leonards-on-Sea, England Ohio', 'St Denys, Southampton, Hants',\n",
       "       'Pomeroy, WA', 'Bath, England / Massachusetts',\n",
       "       'Goteborg, Sweden Huntley, IL', 'London /  East Orange, NJ',\n",
       "       'Tampico, MT', 'Hartford, Huntingdonshire', 'Bryn Mawr, PA, USA',\n",
       "       'Russia New York, NY', 'Milford, NH', 'Syria Fredericksburg, VA',\n",
       "       'Norrlot, Sweden Chicago, IL',\n",
       "       'Pondersend, England / New Durham, NJ', 'Huntington, WV',\n",
       "       'Hartford, CT', 'Sault St Marie, ON',\n",
       "       'Weston-Super-Mare, Somerset', 'West Kensington, London',\n",
       "       'Bishopstoke, Hants / Fayette Valley, ID',\n",
       "       'Kilmacowen, Co Sligo, Ireland New York, NY',\n",
       "       'England Salt Lake City, Utah', 'Cornwall / Clear Creek, CO',\n",
       "       'Buenos Aires, Argentina / New Jersey, NJ',\n",
       "       'Lake Arthur, Chavez County, NM',\n",
       "       'Broomfield, Chelmsford, England', 'Tranvik, Finland New York',\n",
       "       'Swindon, England', 'Salo, Finland Astoria, OR', 'Columbus, OH',\n",
       "       'Germantown, Philadelphia, PA', 'Norway Los Angeles, CA',\n",
       "       'Bournemouth, England Newark, NJ',\n",
       "       'Co Cork, Ireland Charlestown, MA', 'Croatia',\n",
       "       'Aberdeen / Portland, OR', 'Norwich / New York, NY',\n",
       "       'New York, NY /  Stamford CT', 'Belgium Detroit, MI',\n",
       "       'Stockholm, Sweden New York', 'Catford, Kent / Detroit, MI',\n",
       "       'Cologne, Germany', \"St Anne's-on-Sea, Lancashire\",\n",
       "       'Janjgir, India / Pennsylvania', 'Folkstone, Kent / New York, NY',\n",
       "       'London, England Norfolk, VA', 'Devonport, England',\n",
       "       'Stockholm, Sweden', 'Taalintehdas, Finland Hoboken, NJ',\n",
       "       'Green Bay, WI', 'London New York, NY', 'Bergen, Norway',\n",
       "       'Weston-Super-Mare / Moose Jaw, SK', 'Glen Ridge, NJ'],\n",
       "      dtype=object)"
      ]
     },
     "execution_count": 16,
     "metadata": {},
     "output_type": "execute_result"
    }
   ],
   "source": [
    "train['home.dest'].unique()"
   ]
  },
  {
   "cell_type": "markdown",
   "metadata": {},
   "source": [
    "### Data Dictionary\n",
    "- pclass: Passenger Class\n",
    "- survived: label 0 or 1 for died or survived \n",
    "- name: Name of passenger\n",
    "- sex: Female or Male\n",
    "- age: Age of passenger\n",
    "- sibsp: No of siblings of passenger\n",
    "- parch: No of family members of passenger\n",
    "- ticket: Ticket details\n",
    "- fare: fare of ticket\n",
    "- cabin: cabin details\n",
    "- embarked: Port from where the passenger embarked\n",
    "- boat: indicates Lifeboat Number if Passenger was rescued\n",
    "- body: indicates body number of dead passenger, if it was retrieved\n",
    "- home.dest: Home destination of passenger"
   ]
  },
  {
   "cell_type": "markdown",
   "metadata": {},
   "source": [
    "## 2.2. Data Visualization"
   ]
  },
  {
   "cell_type": "markdown",
   "metadata": {},
   "source": [
    "### ~pclass"
   ]
  },
  {
   "cell_type": "code",
   "execution_count": 17,
   "metadata": {},
   "outputs": [
    {
     "data": {
      "image/png": "[encoded data removed]",
      "text/plain": [
       "<Figure size 432x288 with 1 Axes>"
      ]
     },
     "metadata": {
      "needs_background": "light"
     },
     "output_type": "display_data"
    }
   ],
   "source": [
    "sns.countplot(x=train['pclass'],palette='Set1')\n",
    "plt.show()"
   ]
  },
  {
   "cell_type": "code",
   "execution_count": 18,
   "metadata": {},
   "outputs": [],
   "source": [
    "# Most passengers are of class 3"
   ]
  },
  {
   "cell_type": "markdown",
   "metadata": {},
   "source": [
    "### Analysing survival rates for each class"
   ]
  },
  {
   "cell_type": "code",
   "execution_count": 19,
   "metadata": {},
   "outputs": [],
   "source": [
    "survived=[]\n",
    "total=[]\n",
    "pclass_labels=[1,2,3]\n",
    "for x in pclass_labels:\n",
    "    s=np.sum([train[train['survived']==1]['pclass']==x])\n",
    "    survived.append(s)\n",
    "    t=np.sum([train['pclass']==x])\n",
    "    total.append(t)\n",
    "    \n",
    "survived=np.array(survived)\n",
    "total=np.array(total)"
   ]
  },
  {
   "cell_type": "code",
   "execution_count": 20,
   "metadata": {},
   "outputs": [
    {
     "name": "stdout",
     "output_type": "stream",
     "text": [
      "[156  87 139]\n",
      "[247 217 545]\n"
     ]
    }
   ],
   "source": [
    "print(survived)\n",
    "print(total)"
   ]
  },
  {
   "cell_type": "code",
   "execution_count": 21,
   "metadata": {},
   "outputs": [
    {
     "data": {
      "text/plain": [
       "<BarContainer object of 3 artists>"
      ]
     },
     "execution_count": 21,
     "metadata": {},
     "output_type": "execute_result"
    },
    {
     "data": {
      "image/png": "[encoded data removed]",
      "text/plain": [
       "<Figure size 432x288 with 1 Axes>"
      ]
     },
     "metadata": {
      "needs_background": "light"
     },
     "output_type": "display_data"
    }
   ],
   "source": [
    "plt.bar(x=[1,2,3],height=survived/total)"
   ]
  },
  {
   "cell_type": "markdown",
   "metadata": {},
   "source": [
    "### Highest Survival Rate in class 1\n",
    "- Class 1>2>3"
   ]
  },
  {
   "cell_type": "markdown",
   "metadata": {},
   "source": [
    "### ~ Sex"
   ]
  },
  {
   "cell_type": "code",
   "execution_count": 22,
   "metadata": {},
   "outputs": [
    {
     "data": {
      "image/png": "[encoded data removed]",
      "text/plain": [
       "<Figure size 432x288 with 1 Axes>"
      ]
     },
     "metadata": {
      "needs_background": "light"
     },
     "output_type": "display_data"
    }
   ],
   "source": [
    "sns.countplot(x=train[train['survived']==1]['sex'],palette='Set1')\n",
    "plt.show()"
   ]
  },
  {
   "cell_type": "markdown",
   "metadata": {},
   "source": [
    "### Greater number of females survived as compared to males"
   ]
  },
  {
   "cell_type": "markdown",
   "metadata": {},
   "source": [
    "### ~Age"
   ]
  },
  {
   "cell_type": "code",
   "execution_count": 23,
   "metadata": {},
   "outputs": [
    {
     "data": {
      "image/png": "[encoded data removed]",
      "text/plain": [
       "<Figure size 432x288 with 1 Axes>"
      ]
     },
     "metadata": {
      "needs_background": "light"
     },
     "output_type": "display_data"
    }
   ],
   "source": [
    "x_age=train['age']\n",
    "y_age=train[train['survived']==1]['age']\n",
    "\n",
    "bins = np.linspace(0, 100, 10)\n",
    "\n",
    "plt.hist(x_age, bins, label='Total')\n",
    "plt.hist(y_age, bins, alpha=0.5, label='Survived')\n",
    "plt.legend()\n",
    "plt.show()"
   ]
  },
  {
   "cell_type": "code",
   "execution_count": 24,
   "metadata": {},
   "outputs": [],
   "source": [
    "## Passengers with age <=16 have greater survival rates\n",
    "# Introduce a column called isMinor"
   ]
  },
  {
   "cell_type": "markdown",
   "metadata": {},
   "source": [
    "## ~Fare"
   ]
  },
  {
   "cell_type": "code",
   "execution_count": 25,
   "metadata": {},
   "outputs": [
    {
     "data": {
      "image/png": "[encoded data removed]",
      "text/plain": [
       "<Figure size 432x288 with 1 Axes>"
      ]
     },
     "metadata": {
      "needs_background": "light"
     },
     "output_type": "display_data"
    }
   ],
   "source": [
    "x_fare=train['fare']\n",
    "y_fare=train[train['survived']==1]['fare']\n",
    "\n",
    "bins = np.linspace(0, 600, 50)\n",
    "plt.title('Fare')\n",
    "plt.hist(x_fare, bins, label='Total')\n",
    "plt.hist(y_fare, bins, alpha=0.5, label='Survived')\n",
    "plt.legend()\n",
    "plt.show()"
   ]
  },
  {
   "cell_type": "code",
   "execution_count": 26,
   "metadata": {},
   "outputs": [],
   "source": [
    "## Abstract Results"
   ]
  },
  {
   "cell_type": "markdown",
   "metadata": {},
   "source": [
    "## ~Sibsp and Parch"
   ]
  },
  {
   "cell_type": "code",
   "execution_count": 27,
   "metadata": {},
   "outputs": [
    {
     "data": {
      "image/png": "[encoded data removed]",
      "text/plain": [
       "<Figure size 432x288 with 1 Axes>"
      ]
     },
     "metadata": {
      "needs_background": "light"
     },
     "output_type": "display_data"
    },
    {
     "data": {
      "image/png": "[encoded data removed]",
      "text/plain": [
       "<Figure size 432x288 with 1 Axes>"
      ]
     },
     "metadata": {
      "needs_background": "light"
     },
     "output_type": "display_data"
    }
   ],
   "source": [
    "x_sibsp=train['sibsp']\n",
    "y_sibsp=train[train['survived']==1]['sibsp']\n",
    "\n",
    "bins = np.linspace(0, 10, 20)\n",
    "plt.title('Sibsp')\n",
    "plt.hist(x_sibsp, bins, label='Total')\n",
    "plt.hist(y_sibsp, bins, alpha=0.5, label='Survived')\n",
    "plt.legend()\n",
    "plt.show()\n",
    "\n",
    "\n",
    "x_parch=train['parch']\n",
    "y_parch=train[train['survived']==1]['parch']\n",
    "\n",
    "bins = np.linspace(0, 10, 20)\n",
    "plt.title('Parch')\n",
    "plt.hist(x_parch, bins, label='Total')\n",
    "plt.hist(y_parch, bins, alpha=0.5, label='Survived')\n",
    "plt.legend()\n",
    "plt.show()\n",
    "\n",
    "\n"
   ]
  },
  {
   "cell_type": "code",
   "execution_count": 28,
   "metadata": {},
   "outputs": [],
   "source": [
    "# Combine sibsp and parch into one feature"
   ]
  },
  {
   "cell_type": "markdown",
   "metadata": {},
   "source": [
    "## ~Embarked"
   ]
  },
  {
   "cell_type": "code",
   "execution_count": 29,
   "metadata": {},
   "outputs": [
    {
     "data": {
      "image/png": "[encoded data removed]",
      "text/plain": [
       "<Figure size 432x288 with 1 Axes>"
      ]
     },
     "metadata": {
      "needs_background": "light"
     },
     "output_type": "display_data"
    }
   ],
   "source": [
    "sns.countplot(x=train['embarked'],palette='Set1')\n",
    "plt.show()"
   ]
  },
  {
   "cell_type": "code",
   "execution_count": 30,
   "metadata": {},
   "outputs": [],
   "source": [
    "## Highest number of passengers embarked from S"
   ]
  },
  {
   "cell_type": "markdown",
   "metadata": {},
   "source": [
    "### Analysing Survival Rates for embarked ports"
   ]
  },
  {
   "cell_type": "code",
   "execution_count": 31,
   "metadata": {},
   "outputs": [],
   "source": [
    "em_survived=[]\n",
    "em_total=[]\n",
    "em_labels=['S','Q','C']\n",
    "for x in em_labels:\n",
    "    s=np.sum([train[train['survived']==1]['embarked']==x])\n",
    "    em_survived.append(s)\n",
    "    t=np.sum([train['embarked']==x])\n",
    "    em_total.append(t)\n",
    "    \n",
    "em_survived=np.array(em_survived)\n",
    "em_total=np.array(em_total)"
   ]
  },
  {
   "cell_type": "code",
   "execution_count": 32,
   "metadata": {},
   "outputs": [
    {
     "name": "stdout",
     "output_type": "stream",
     "text": [
      "[234  30 117]\n",
      "[712  93 203]\n"
     ]
    }
   ],
   "source": [
    "print(em_survived)\n",
    "print(em_total)"
   ]
  },
  {
   "cell_type": "code",
   "execution_count": 33,
   "metadata": {},
   "outputs": [
    {
     "data": {
      "text/plain": [
       "<BarContainer object of 3 artists>"
      ]
     },
     "execution_count": 33,
     "metadata": {},
     "output_type": "execute_result"
    },
    {
     "data": {
      "image/png": "[encoded data removed]",
      "text/plain": [
       "<Figure size 432x288 with 1 Axes>"
      ]
     },
     "metadata": {
      "needs_background": "light"
     },
     "output_type": "display_data"
    }
   ],
   "source": [
    "plt.bar(x=em_labels,height=em_survived/em_total)"
   ]
  },
  {
   "cell_type": "code",
   "execution_count": 34,
   "metadata": {},
   "outputs": [],
   "source": [
    "# Highest Survival Rate in port C"
   ]
  },
  {
   "cell_type": "markdown",
   "metadata": {},
   "source": [
    "## Summary:\n",
    "- Most passengers are of class 3\n",
    "- Survival Rates Class 1>2>3\n",
    "- Greater number of females survived as compared to males\n",
    "- Passengers with age <=16 have greater survival rates, therefore, Introduce a column called isMinor\n",
    "- Combine sibsp and parch into one feature\n",
    "- Highest number of passengers embarked from S\n",
    "- Highest Survival Rate in port C"
   ]
  },
  {
   "cell_type": "markdown",
   "metadata": {},
   "source": [
    "# 3. Initial Feature Engineering \n",
    "- Retain columns as it is: pclass, sex, age, embarked, boat, body\n",
    "- Columns to be dropped: name, ticket, cabin, fare, home.dest\n",
    "- Modify these columns: merge sibsp and parch, introduce isMinor"
   ]
  },
  {
   "cell_type": "markdown",
   "metadata": {},
   "source": [
    "## 3.1 Filling in Missing Values"
   ]
  },
  {
   "cell_type": "code",
   "execution_count": 35,
   "metadata": {},
   "outputs": [
    {
     "name": "stdout",
     "output_type": "stream",
     "text": [
      "<class 'pandas.core.frame.DataFrame'>\n",
      "RangeIndex: 1009 entries, 0 to 1008\n",
      "Data columns (total 14 columns):\n",
      " #   Column     Non-Null Count  Dtype  \n",
      "---  ------     --------------  -----  \n",
      " 0   pclass     1009 non-null   float64\n",
      " 1   survived   1009 non-null   float64\n",
      " 2   name       1009 non-null   object \n",
      " 3   sex        1009 non-null   object \n",
      " 4   age        812 non-null    float64\n",
      " 5   sibsp      1009 non-null   float64\n",
      " 6   parch      1009 non-null   float64\n",
      " 7   ticket     1009 non-null   object \n",
      " 8   fare       1008 non-null   float64\n",
      " 9   cabin      229 non-null    object \n",
      " 10  embarked   1008 non-null   object \n",
      " 11  boat       374 non-null    object \n",
      " 12  body       98 non-null     float64\n",
      " 13  home.dest  582 non-null    object \n",
      "dtypes: float64(7), object(7)\n",
      "memory usage: 110.5+ KB\n"
     ]
    }
   ],
   "source": [
    "train.info()"
   ]
  },
  {
   "cell_type": "code",
   "execution_count": 36,
   "metadata": {},
   "outputs": [],
   "source": [
    "# Missing Values in columns: age, embarked, boat, body"
   ]
  },
  {
   "cell_type": "code",
   "execution_count": 37,
   "metadata": {},
   "outputs": [],
   "source": [
    "# Age\n",
    "tr_median=train['age'].median()\n",
    "ts_median=test['age'].median()\n",
    "\n",
    "train['age'].fillna(tr_median,inplace=True)\n",
    "test['age'].fillna(ts_median,inplace=True)"
   ]
  },
  {
   "cell_type": "code",
   "execution_count": 38,
   "metadata": {},
   "outputs": [],
   "source": [
    "#Embarked\n",
    "train['embarked'].fillna('S',inplace=True)\n",
    "test['embarked'].fillna('S',inplace=True)"
   ]
  },
  {
   "cell_type": "code",
   "execution_count": 39,
   "metadata": {},
   "outputs": [],
   "source": [
    "# Boat\n",
    "train['boat'].fillna(0,inplace=True)\n",
    "test['boat'].fillna(0,inplace=True)"
   ]
  },
  {
   "cell_type": "code",
   "execution_count": 40,
   "metadata": {},
   "outputs": [],
   "source": [
    "#Body\n",
    "train['body'].fillna(0,inplace=True)\n",
    "test['body'].fillna(0,inplace=True)"
   ]
  },
  {
   "cell_type": "markdown",
   "metadata": {},
   "source": [
    "## 3.2 Encoding Sex and Embarked Cols"
   ]
  },
  {
   "cell_type": "code",
   "execution_count": 41,
   "metadata": {},
   "outputs": [],
   "source": [
    "from sklearn.preprocessing import LabelEncoder\n",
    "le=LabelEncoder()\n",
    "\n",
    "#Sex\n",
    "train['sex']=le.fit_transform(train['sex'])\n",
    "test['sex']=le.fit_transform(test['sex'])\n",
    "\n",
    "#Embarked\n",
    "train['embarked']=le.fit_transform(train['embarked'])\n",
    "test['embarked']=le.fit_transform(test['embarked'])"
   ]
  },
  {
   "cell_type": "markdown",
   "metadata": {},
   "source": [
    "## 3.3 Modifying Values and Columns"
   ]
  },
  {
   "cell_type": "code",
   "execution_count": 42,
   "metadata": {},
   "outputs": [],
   "source": [
    "# Merge sibsp and parch\n",
    "train['sibsp_parch']=train['sibsp']+train['parch']\n",
    "test['sibsp_parch']=test['sibsp']+test['parch']"
   ]
  },
  {
   "cell_type": "code",
   "execution_count": 43,
   "metadata": {},
   "outputs": [],
   "source": [
    "# Adding isMinor\n",
    "train['isMinor']=np.where(train['age']<16,1,0)\n",
    "test['isMinor']=np.where(test['age']<16,1,0)"
   ]
  },
  {
   "cell_type": "code",
   "execution_count": 44,
   "metadata": {},
   "outputs": [],
   "source": [
    "columns_drop=['name','ticket','fare','home.dest','sibsp','parch','cabin']"
   ]
  },
  {
   "cell_type": "code",
   "execution_count": 45,
   "metadata": {},
   "outputs": [],
   "source": [
    "train=train.drop(columns=columns_drop)"
   ]
  },
  {
   "cell_type": "code",
   "execution_count": 46,
   "metadata": {},
   "outputs": [],
   "source": [
    "test=test.drop(columns=columns_drop)"
   ]
  },
  {
   "cell_type": "code",
   "execution_count": 47,
   "metadata": {},
   "outputs": [
    {
     "data": {
      "text/html": [
       "<div>\n",
       "<style scoped>\n",
       "    .dataframe tbody tr th:only-of-type {\n",
       "        vertical-align: middle;\n",
       "    }\n",
       "\n",
       "    .dataframe tbody tr th {\n",
       "        vertical-align: top;\n",
       "    }\n",
       "\n",
       "    .dataframe thead th {\n",
       "        text-align: right;\n",
       "    }\n",
       "</style>\n",
       "<table border=\"1\" class=\"dataframe\">\n",
       "  <thead>\n",
       "    <tr style=\"text-align: right;\">\n",
       "      <th></th>\n",
       "      <th>pclass</th>\n",
       "      <th>survived</th>\n",
       "      <th>sex</th>\n",
       "      <th>age</th>\n",
       "      <th>embarked</th>\n",
       "      <th>boat</th>\n",
       "      <th>body</th>\n",
       "      <th>sibsp_parch</th>\n",
       "      <th>isMinor</th>\n",
       "    </tr>\n",
       "  </thead>\n",
       "  <tbody>\n",
       "    <tr>\n",
       "      <th>0</th>\n",
       "      <td>3.0</td>\n",
       "      <td>0.0</td>\n",
       "      <td>0</td>\n",
       "      <td>28.0</td>\n",
       "      <td>1</td>\n",
       "      <td>0</td>\n",
       "      <td>0.0</td>\n",
       "      <td>0.0</td>\n",
       "      <td>0</td>\n",
       "    </tr>\n",
       "    <tr>\n",
       "      <th>1</th>\n",
       "      <td>2.0</td>\n",
       "      <td>0.0</td>\n",
       "      <td>1</td>\n",
       "      <td>39.0</td>\n",
       "      <td>2</td>\n",
       "      <td>0</td>\n",
       "      <td>0.0</td>\n",
       "      <td>0.0</td>\n",
       "      <td>0</td>\n",
       "    </tr>\n",
       "    <tr>\n",
       "      <th>2</th>\n",
       "      <td>2.0</td>\n",
       "      <td>1.0</td>\n",
       "      <td>0</td>\n",
       "      <td>40.0</td>\n",
       "      <td>2</td>\n",
       "      <td>9</td>\n",
       "      <td>0.0</td>\n",
       "      <td>0.0</td>\n",
       "      <td>0</td>\n",
       "    </tr>\n",
       "    <tr>\n",
       "      <th>3</th>\n",
       "      <td>3.0</td>\n",
       "      <td>1.0</td>\n",
       "      <td>0</td>\n",
       "      <td>31.0</td>\n",
       "      <td>2</td>\n",
       "      <td>C D</td>\n",
       "      <td>0.0</td>\n",
       "      <td>2.0</td>\n",
       "      <td>0</td>\n",
       "    </tr>\n",
       "    <tr>\n",
       "      <th>4</th>\n",
       "      <td>3.0</td>\n",
       "      <td>1.0</td>\n",
       "      <td>0</td>\n",
       "      <td>28.0</td>\n",
       "      <td>1</td>\n",
       "      <td>16</td>\n",
       "      <td>0.0</td>\n",
       "      <td>2.0</td>\n",
       "      <td>0</td>\n",
       "    </tr>\n",
       "    <tr>\n",
       "      <th>5</th>\n",
       "      <td>2.0</td>\n",
       "      <td>0.0</td>\n",
       "      <td>1</td>\n",
       "      <td>16.0</td>\n",
       "      <td>2</td>\n",
       "      <td>0</td>\n",
       "      <td>0.0</td>\n",
       "      <td>0.0</td>\n",
       "      <td>0</td>\n",
       "    </tr>\n",
       "    <tr>\n",
       "      <th>6</th>\n",
       "      <td>2.0</td>\n",
       "      <td>0.0</td>\n",
       "      <td>1</td>\n",
       "      <td>43.0</td>\n",
       "      <td>2</td>\n",
       "      <td>0</td>\n",
       "      <td>0.0</td>\n",
       "      <td>1.0</td>\n",
       "      <td>0</td>\n",
       "    </tr>\n",
       "    <tr>\n",
       "      <th>7</th>\n",
       "      <td>1.0</td>\n",
       "      <td>1.0</td>\n",
       "      <td>0</td>\n",
       "      <td>49.0</td>\n",
       "      <td>2</td>\n",
       "      <td>8</td>\n",
       "      <td>0.0</td>\n",
       "      <td>0.0</td>\n",
       "      <td>0</td>\n",
       "    </tr>\n",
       "    <tr>\n",
       "      <th>8</th>\n",
       "      <td>1.0</td>\n",
       "      <td>0.0</td>\n",
       "      <td>1</td>\n",
       "      <td>48.0</td>\n",
       "      <td>0</td>\n",
       "      <td>0</td>\n",
       "      <td>208.0</td>\n",
       "      <td>0.0</td>\n",
       "      <td>0</td>\n",
       "    </tr>\n",
       "    <tr>\n",
       "      <th>9</th>\n",
       "      <td>2.0</td>\n",
       "      <td>0.0</td>\n",
       "      <td>1</td>\n",
       "      <td>28.0</td>\n",
       "      <td>2</td>\n",
       "      <td>0</td>\n",
       "      <td>0.0</td>\n",
       "      <td>0.0</td>\n",
       "      <td>0</td>\n",
       "    </tr>\n",
       "    <tr>\n",
       "      <th>10</th>\n",
       "      <td>2.0</td>\n",
       "      <td>0.0</td>\n",
       "      <td>1</td>\n",
       "      <td>21.0</td>\n",
       "      <td>2</td>\n",
       "      <td>0</td>\n",
       "      <td>0.0</td>\n",
       "      <td>2.0</td>\n",
       "      <td>0</td>\n",
       "    </tr>\n",
       "    <tr>\n",
       "      <th>11</th>\n",
       "      <td>3.0</td>\n",
       "      <td>1.0</td>\n",
       "      <td>0</td>\n",
       "      <td>28.0</td>\n",
       "      <td>1</td>\n",
       "      <td>13</td>\n",
       "      <td>0.0</td>\n",
       "      <td>0.0</td>\n",
       "      <td>0</td>\n",
       "    </tr>\n",
       "    <tr>\n",
       "      <th>12</th>\n",
       "      <td>2.0</td>\n",
       "      <td>1.0</td>\n",
       "      <td>0</td>\n",
       "      <td>48.0</td>\n",
       "      <td>2</td>\n",
       "      <td>14</td>\n",
       "      <td>0.0</td>\n",
       "      <td>2.0</td>\n",
       "      <td>0</td>\n",
       "    </tr>\n",
       "    <tr>\n",
       "      <th>13</th>\n",
       "      <td>2.0</td>\n",
       "      <td>1.0</td>\n",
       "      <td>1</td>\n",
       "      <td>8.0</td>\n",
       "      <td>2</td>\n",
       "      <td>14</td>\n",
       "      <td>0.0</td>\n",
       "      <td>2.0</td>\n",
       "      <td>1</td>\n",
       "    </tr>\n",
       "    <tr>\n",
       "      <th>14</th>\n",
       "      <td>3.0</td>\n",
       "      <td>0.0</td>\n",
       "      <td>1</td>\n",
       "      <td>22.0</td>\n",
       "      <td>2</td>\n",
       "      <td>0</td>\n",
       "      <td>0.0</td>\n",
       "      <td>0.0</td>\n",
       "      <td>0</td>\n",
       "    </tr>\n",
       "    <tr>\n",
       "      <th>15</th>\n",
       "      <td>1.0</td>\n",
       "      <td>0.0</td>\n",
       "      <td>1</td>\n",
       "      <td>28.0</td>\n",
       "      <td>2</td>\n",
       "      <td>0</td>\n",
       "      <td>0.0</td>\n",
       "      <td>0.0</td>\n",
       "      <td>0</td>\n",
       "    </tr>\n",
       "    <tr>\n",
       "      <th>16</th>\n",
       "      <td>1.0</td>\n",
       "      <td>1.0</td>\n",
       "      <td>0</td>\n",
       "      <td>39.0</td>\n",
       "      <td>0</td>\n",
       "      <td>4</td>\n",
       "      <td>0.0</td>\n",
       "      <td>2.0</td>\n",
       "      <td>0</td>\n",
       "    </tr>\n",
       "    <tr>\n",
       "      <th>17</th>\n",
       "      <td>3.0</td>\n",
       "      <td>0.0</td>\n",
       "      <td>0</td>\n",
       "      <td>30.5</td>\n",
       "      <td>1</td>\n",
       "      <td>0</td>\n",
       "      <td>61.0</td>\n",
       "      <td>0.0</td>\n",
       "      <td>0</td>\n",
       "    </tr>\n",
       "    <tr>\n",
       "      <th>18</th>\n",
       "      <td>2.0</td>\n",
       "      <td>0.0</td>\n",
       "      <td>1</td>\n",
       "      <td>28.0</td>\n",
       "      <td>0</td>\n",
       "      <td>0</td>\n",
       "      <td>0.0</td>\n",
       "      <td>0.0</td>\n",
       "      <td>0</td>\n",
       "    </tr>\n",
       "    <tr>\n",
       "      <th>19</th>\n",
       "      <td>3.0</td>\n",
       "      <td>0.0</td>\n",
       "      <td>1</td>\n",
       "      <td>16.0</td>\n",
       "      <td>2</td>\n",
       "      <td>0</td>\n",
       "      <td>0.0</td>\n",
       "      <td>2.0</td>\n",
       "      <td>0</td>\n",
       "    </tr>\n",
       "  </tbody>\n",
       "</table>\n",
       "</div>"
      ],
      "text/plain": [
       "    pclass  survived  sex   age  embarked boat   body  sibsp_parch  isMinor\n",
       "0      3.0       0.0    0  28.0         1    0    0.0          0.0        0\n",
       "1      2.0       0.0    1  39.0         2    0    0.0          0.0        0\n",
       "2      2.0       1.0    0  40.0         2    9    0.0          0.0        0\n",
       "3      3.0       1.0    0  31.0         2  C D    0.0          2.0        0\n",
       "4      3.0       1.0    0  28.0         1   16    0.0          2.0        0\n",
       "5      2.0       0.0    1  16.0         2    0    0.0          0.0        0\n",
       "6      2.0       0.0    1  43.0         2    0    0.0          1.0        0\n",
       "7      1.0       1.0    0  49.0         2    8    0.0          0.0        0\n",
       "8      1.0       0.0    1  48.0         0    0  208.0          0.0        0\n",
       "9      2.0       0.0    1  28.0         2    0    0.0          0.0        0\n",
       "10     2.0       0.0    1  21.0         2    0    0.0          2.0        0\n",
       "11     3.0       1.0    0  28.0         1   13    0.0          0.0        0\n",
       "12     2.0       1.0    0  48.0         2   14    0.0          2.0        0\n",
       "13     2.0       1.0    1   8.0         2   14    0.0          2.0        1\n",
       "14     3.0       0.0    1  22.0         2    0    0.0          0.0        0\n",
       "15     1.0       0.0    1  28.0         2    0    0.0          0.0        0\n",
       "16     1.0       1.0    0  39.0         0    4    0.0          2.0        0\n",
       "17     3.0       0.0    0  30.5         1    0   61.0          0.0        0\n",
       "18     2.0       0.0    1  28.0         0    0    0.0          0.0        0\n",
       "19     3.0       0.0    1  16.0         2    0    0.0          2.0        0"
      ]
     },
     "execution_count": 47,
     "metadata": {},
     "output_type": "execute_result"
    }
   ],
   "source": [
    "train.head(20)"
   ]
  },
  {
   "cell_type": "code",
   "execution_count": 48,
   "metadata": {},
   "outputs": [
    {
     "data": {
      "text/html": [
       "<div>\n",
       "<style scoped>\n",
       "    .dataframe tbody tr th:only-of-type {\n",
       "        vertical-align: middle;\n",
       "    }\n",
       "\n",
       "    .dataframe tbody tr th {\n",
       "        vertical-align: top;\n",
       "    }\n",
       "\n",
       "    .dataframe thead th {\n",
       "        text-align: right;\n",
       "    }\n",
       "</style>\n",
       "<table border=\"1\" class=\"dataframe\">\n",
       "  <thead>\n",
       "    <tr style=\"text-align: right;\">\n",
       "      <th></th>\n",
       "      <th>pclass</th>\n",
       "      <th>survived</th>\n",
       "      <th>sex</th>\n",
       "      <th>age</th>\n",
       "      <th>embarked</th>\n",
       "      <th>boat</th>\n",
       "      <th>body</th>\n",
       "      <th>sibsp_parch</th>\n",
       "      <th>isMinor</th>\n",
       "    </tr>\n",
       "  </thead>\n",
       "  <tbody>\n",
       "    <tr>\n",
       "      <th>2</th>\n",
       "      <td>2.0</td>\n",
       "      <td>1.0</td>\n",
       "      <td>0</td>\n",
       "      <td>40.0</td>\n",
       "      <td>2</td>\n",
       "      <td>9</td>\n",
       "      <td>0.0</td>\n",
       "      <td>0.0</td>\n",
       "      <td>0</td>\n",
       "    </tr>\n",
       "    <tr>\n",
       "      <th>3</th>\n",
       "      <td>3.0</td>\n",
       "      <td>1.0</td>\n",
       "      <td>0</td>\n",
       "      <td>31.0</td>\n",
       "      <td>2</td>\n",
       "      <td>C D</td>\n",
       "      <td>0.0</td>\n",
       "      <td>2.0</td>\n",
       "      <td>0</td>\n",
       "    </tr>\n",
       "    <tr>\n",
       "      <th>4</th>\n",
       "      <td>3.0</td>\n",
       "      <td>1.0</td>\n",
       "      <td>0</td>\n",
       "      <td>28.0</td>\n",
       "      <td>1</td>\n",
       "      <td>16</td>\n",
       "      <td>0.0</td>\n",
       "      <td>2.0</td>\n",
       "      <td>0</td>\n",
       "    </tr>\n",
       "    <tr>\n",
       "      <th>7</th>\n",
       "      <td>1.0</td>\n",
       "      <td>1.0</td>\n",
       "      <td>0</td>\n",
       "      <td>49.0</td>\n",
       "      <td>2</td>\n",
       "      <td>8</td>\n",
       "      <td>0.0</td>\n",
       "      <td>0.0</td>\n",
       "      <td>0</td>\n",
       "    </tr>\n",
       "    <tr>\n",
       "      <th>11</th>\n",
       "      <td>3.0</td>\n",
       "      <td>1.0</td>\n",
       "      <td>0</td>\n",
       "      <td>28.0</td>\n",
       "      <td>1</td>\n",
       "      <td>13</td>\n",
       "      <td>0.0</td>\n",
       "      <td>0.0</td>\n",
       "      <td>0</td>\n",
       "    </tr>\n",
       "    <tr>\n",
       "      <th>12</th>\n",
       "      <td>2.0</td>\n",
       "      <td>1.0</td>\n",
       "      <td>0</td>\n",
       "      <td>48.0</td>\n",
       "      <td>2</td>\n",
       "      <td>14</td>\n",
       "      <td>0.0</td>\n",
       "      <td>2.0</td>\n",
       "      <td>0</td>\n",
       "    </tr>\n",
       "    <tr>\n",
       "      <th>13</th>\n",
       "      <td>2.0</td>\n",
       "      <td>1.0</td>\n",
       "      <td>1</td>\n",
       "      <td>8.0</td>\n",
       "      <td>2</td>\n",
       "      <td>14</td>\n",
       "      <td>0.0</td>\n",
       "      <td>2.0</td>\n",
       "      <td>1</td>\n",
       "    </tr>\n",
       "    <tr>\n",
       "      <th>16</th>\n",
       "      <td>1.0</td>\n",
       "      <td>1.0</td>\n",
       "      <td>0</td>\n",
       "      <td>39.0</td>\n",
       "      <td>0</td>\n",
       "      <td>4</td>\n",
       "      <td>0.0</td>\n",
       "      <td>2.0</td>\n",
       "      <td>0</td>\n",
       "    </tr>\n",
       "    <tr>\n",
       "      <th>20</th>\n",
       "      <td>1.0</td>\n",
       "      <td>1.0</td>\n",
       "      <td>0</td>\n",
       "      <td>55.0</td>\n",
       "      <td>2</td>\n",
       "      <td>2</td>\n",
       "      <td>0.0</td>\n",
       "      <td>2.0</td>\n",
       "      <td>0</td>\n",
       "    </tr>\n",
       "    <tr>\n",
       "      <th>21</th>\n",
       "      <td>1.0</td>\n",
       "      <td>1.0</td>\n",
       "      <td>1</td>\n",
       "      <td>80.0</td>\n",
       "      <td>2</td>\n",
       "      <td>B</td>\n",
       "      <td>0.0</td>\n",
       "      <td>0.0</td>\n",
       "      <td>0</td>\n",
       "    </tr>\n",
       "  </tbody>\n",
       "</table>\n",
       "</div>"
      ],
      "text/plain": [
       "    pclass  survived  sex   age  embarked boat  body  sibsp_parch  isMinor\n",
       "2      2.0       1.0    0  40.0         2    9   0.0          0.0        0\n",
       "3      3.0       1.0    0  31.0         2  C D   0.0          2.0        0\n",
       "4      3.0       1.0    0  28.0         1   16   0.0          2.0        0\n",
       "7      1.0       1.0    0  49.0         2    8   0.0          0.0        0\n",
       "11     3.0       1.0    0  28.0         1   13   0.0          0.0        0\n",
       "12     2.0       1.0    0  48.0         2   14   0.0          2.0        0\n",
       "13     2.0       1.0    1   8.0         2   14   0.0          2.0        1\n",
       "16     1.0       1.0    0  39.0         0    4   0.0          2.0        0\n",
       "20     1.0       1.0    0  55.0         2    2   0.0          2.0        0\n",
       "21     1.0       1.0    1  80.0         2    B   0.0          0.0        0"
      ]
     },
     "execution_count": 48,
     "metadata": {},
     "output_type": "execute_result"
    }
   ],
   "source": [
    "boat=train[train['boat']!=0]\n",
    "boat.head(10)"
   ]
  },
  {
   "cell_type": "code",
   "execution_count": 49,
   "metadata": {},
   "outputs": [
    {
     "data": {
      "text/plain": [
       "(374, 9)"
      ]
     },
     "execution_count": 49,
     "metadata": {},
     "output_type": "execute_result"
    }
   ],
   "source": [
    "boat.shape"
   ]
  },
  {
   "cell_type": "code",
   "execution_count": 50,
   "metadata": {},
   "outputs": [
    {
     "data": {
      "text/html": [
       "<div>\n",
       "<style scoped>\n",
       "    .dataframe tbody tr th:only-of-type {\n",
       "        vertical-align: middle;\n",
       "    }\n",
       "\n",
       "    .dataframe tbody tr th {\n",
       "        vertical-align: top;\n",
       "    }\n",
       "\n",
       "    .dataframe thead th {\n",
       "        text-align: right;\n",
       "    }\n",
       "</style>\n",
       "<table border=\"1\" class=\"dataframe\">\n",
       "  <thead>\n",
       "    <tr style=\"text-align: right;\">\n",
       "      <th></th>\n",
       "      <th>pclass</th>\n",
       "      <th>survived</th>\n",
       "      <th>sex</th>\n",
       "      <th>age</th>\n",
       "      <th>embarked</th>\n",
       "      <th>boat</th>\n",
       "      <th>body</th>\n",
       "      <th>sibsp_parch</th>\n",
       "      <th>isMinor</th>\n",
       "    </tr>\n",
       "  </thead>\n",
       "  <tbody>\n",
       "    <tr>\n",
       "      <th>158</th>\n",
       "      <td>3.0</td>\n",
       "      <td>0.0</td>\n",
       "      <td>1</td>\n",
       "      <td>25.0</td>\n",
       "      <td>2</td>\n",
       "      <td>B</td>\n",
       "      <td>0.0</td>\n",
       "      <td>0.0</td>\n",
       "      <td>0</td>\n",
       "    </tr>\n",
       "    <tr>\n",
       "      <th>212</th>\n",
       "      <td>3.0</td>\n",
       "      <td>0.0</td>\n",
       "      <td>1</td>\n",
       "      <td>32.0</td>\n",
       "      <td>2</td>\n",
       "      <td>D</td>\n",
       "      <td>0.0</td>\n",
       "      <td>1.0</td>\n",
       "      <td>0</td>\n",
       "    </tr>\n",
       "    <tr>\n",
       "      <th>257</th>\n",
       "      <td>1.0</td>\n",
       "      <td>0.0</td>\n",
       "      <td>1</td>\n",
       "      <td>36.0</td>\n",
       "      <td>0</td>\n",
       "      <td>A</td>\n",
       "      <td>0.0</td>\n",
       "      <td>0.0</td>\n",
       "      <td>0</td>\n",
       "    </tr>\n",
       "    <tr>\n",
       "      <th>381</th>\n",
       "      <td>3.0</td>\n",
       "      <td>0.0</td>\n",
       "      <td>1</td>\n",
       "      <td>27.0</td>\n",
       "      <td>0</td>\n",
       "      <td>C</td>\n",
       "      <td>0.0</td>\n",
       "      <td>1.0</td>\n",
       "      <td>0</td>\n",
       "    </tr>\n",
       "    <tr>\n",
       "      <th>467</th>\n",
       "      <td>3.0</td>\n",
       "      <td>0.0</td>\n",
       "      <td>1</td>\n",
       "      <td>28.0</td>\n",
       "      <td>2</td>\n",
       "      <td>A</td>\n",
       "      <td>0.0</td>\n",
       "      <td>0.0</td>\n",
       "      <td>0</td>\n",
       "    </tr>\n",
       "    <tr>\n",
       "      <th>520</th>\n",
       "      <td>3.0</td>\n",
       "      <td>0.0</td>\n",
       "      <td>0</td>\n",
       "      <td>30.0</td>\n",
       "      <td>2</td>\n",
       "      <td>A</td>\n",
       "      <td>0.0</td>\n",
       "      <td>1.0</td>\n",
       "      <td>0</td>\n",
       "    </tr>\n",
       "    <tr>\n",
       "      <th>979</th>\n",
       "      <td>3.0</td>\n",
       "      <td>0.0</td>\n",
       "      <td>1</td>\n",
       "      <td>36.0</td>\n",
       "      <td>2</td>\n",
       "      <td>A</td>\n",
       "      <td>0.0</td>\n",
       "      <td>1.0</td>\n",
       "      <td>0</td>\n",
       "    </tr>\n",
       "  </tbody>\n",
       "</table>\n",
       "</div>"
      ],
      "text/plain": [
       "     pclass  survived  sex   age  embarked boat  body  sibsp_parch  isMinor\n",
       "158     3.0       0.0    1  25.0         2    B   0.0          0.0        0\n",
       "212     3.0       0.0    1  32.0         2    D   0.0          1.0        0\n",
       "257     1.0       0.0    1  36.0         0    A   0.0          0.0        0\n",
       "381     3.0       0.0    1  27.0         0    C   0.0          1.0        0\n",
       "467     3.0       0.0    1  28.0         2    A   0.0          0.0        0\n",
       "520     3.0       0.0    0  30.0         2    A   0.0          1.0        0\n",
       "979     3.0       0.0    1  36.0         2    A   0.0          1.0        0"
      ]
     },
     "execution_count": 50,
     "metadata": {},
     "output_type": "execute_result"
    }
   ],
   "source": [
    "boat_die=boat[boat['survived']==0]\n",
    "boat_die.head(10)"
   ]
  },
  {
   "cell_type": "code",
   "execution_count": 51,
   "metadata": {},
   "outputs": [],
   "source": [
    "#Mostly people with boats survived\n",
    "# encoding boat value as 1 for people who had boats\n",
    "\n",
    "train['boat']=np.where(train['boat']!=0,1,0)\n",
    "test['boat']=np.where(test['boat']!=0,1,0)"
   ]
  },
  {
   "cell_type": "code",
   "execution_count": 52,
   "metadata": {},
   "outputs": [
    {
     "data": {
      "text/html": [
       "<div>\n",
       "<style scoped>\n",
       "    .dataframe tbody tr th:only-of-type {\n",
       "        vertical-align: middle;\n",
       "    }\n",
       "\n",
       "    .dataframe tbody tr th {\n",
       "        vertical-align: top;\n",
       "    }\n",
       "\n",
       "    .dataframe thead th {\n",
       "        text-align: right;\n",
       "    }\n",
       "</style>\n",
       "<table border=\"1\" class=\"dataframe\">\n",
       "  <thead>\n",
       "    <tr style=\"text-align: right;\">\n",
       "      <th></th>\n",
       "      <th>pclass</th>\n",
       "      <th>survived</th>\n",
       "      <th>sex</th>\n",
       "      <th>age</th>\n",
       "      <th>embarked</th>\n",
       "      <th>boat</th>\n",
       "      <th>body</th>\n",
       "      <th>sibsp_parch</th>\n",
       "      <th>isMinor</th>\n",
       "    </tr>\n",
       "  </thead>\n",
       "  <tbody>\n",
       "    <tr>\n",
       "      <th>8</th>\n",
       "      <td>1.0</td>\n",
       "      <td>0.0</td>\n",
       "      <td>1</td>\n",
       "      <td>48.0</td>\n",
       "      <td>0</td>\n",
       "      <td>0</td>\n",
       "      <td>208.0</td>\n",
       "      <td>0.0</td>\n",
       "      <td>0</td>\n",
       "    </tr>\n",
       "    <tr>\n",
       "      <th>17</th>\n",
       "      <td>3.0</td>\n",
       "      <td>0.0</td>\n",
       "      <td>0</td>\n",
       "      <td>30.5</td>\n",
       "      <td>1</td>\n",
       "      <td>0</td>\n",
       "      <td>61.0</td>\n",
       "      <td>0.0</td>\n",
       "      <td>0</td>\n",
       "    </tr>\n",
       "    <tr>\n",
       "      <th>25</th>\n",
       "      <td>2.0</td>\n",
       "      <td>0.0</td>\n",
       "      <td>1</td>\n",
       "      <td>52.0</td>\n",
       "      <td>2</td>\n",
       "      <td>0</td>\n",
       "      <td>130.0</td>\n",
       "      <td>0.0</td>\n",
       "      <td>0</td>\n",
       "    </tr>\n",
       "    <tr>\n",
       "      <th>33</th>\n",
       "      <td>2.0</td>\n",
       "      <td>0.0</td>\n",
       "      <td>1</td>\n",
       "      <td>32.5</td>\n",
       "      <td>0</td>\n",
       "      <td>0</td>\n",
       "      <td>43.0</td>\n",
       "      <td>1.0</td>\n",
       "      <td>0</td>\n",
       "    </tr>\n",
       "    <tr>\n",
       "      <th>34</th>\n",
       "      <td>1.0</td>\n",
       "      <td>0.0</td>\n",
       "      <td>1</td>\n",
       "      <td>54.0</td>\n",
       "      <td>2</td>\n",
       "      <td>0</td>\n",
       "      <td>175.0</td>\n",
       "      <td>0.0</td>\n",
       "      <td>0</td>\n",
       "    </tr>\n",
       "  </tbody>\n",
       "</table>\n",
       "</div>"
      ],
      "text/plain": [
       "    pclass  survived  sex   age  embarked  boat   body  sibsp_parch  isMinor\n",
       "8      1.0       0.0    1  48.0         0     0  208.0          0.0        0\n",
       "17     3.0       0.0    0  30.5         1     0   61.0          0.0        0\n",
       "25     2.0       0.0    1  52.0         2     0  130.0          0.0        0\n",
       "33     2.0       0.0    1  32.5         0     0   43.0          1.0        0\n",
       "34     1.0       0.0    1  54.0         2     0  175.0          0.0        0"
      ]
     },
     "execution_count": 52,
     "metadata": {},
     "output_type": "execute_result"
    }
   ],
   "source": [
    "body=train[train['body']!=0]\n",
    "body.head()"
   ]
  },
  {
   "cell_type": "code",
   "execution_count": 53,
   "metadata": {},
   "outputs": [
    {
     "data": {
      "text/html": [
       "<div>\n",
       "<style scoped>\n",
       "    .dataframe tbody tr th:only-of-type {\n",
       "        vertical-align: middle;\n",
       "    }\n",
       "\n",
       "    .dataframe tbody tr th {\n",
       "        vertical-align: top;\n",
       "    }\n",
       "\n",
       "    .dataframe thead th {\n",
       "        text-align: right;\n",
       "    }\n",
       "</style>\n",
       "<table border=\"1\" class=\"dataframe\">\n",
       "  <thead>\n",
       "    <tr style=\"text-align: right;\">\n",
       "      <th></th>\n",
       "      <th>pclass</th>\n",
       "      <th>survived</th>\n",
       "      <th>sex</th>\n",
       "      <th>age</th>\n",
       "      <th>embarked</th>\n",
       "      <th>boat</th>\n",
       "      <th>body</th>\n",
       "      <th>sibsp_parch</th>\n",
       "      <th>isMinor</th>\n",
       "    </tr>\n",
       "  </thead>\n",
       "  <tbody>\n",
       "  </tbody>\n",
       "</table>\n",
       "</div>"
      ],
      "text/plain": [
       "Empty DataFrame\n",
       "Columns: [pclass, survived, sex, age, embarked, boat, body, sibsp_parch, isMinor]\n",
       "Index: []"
      ]
     },
     "execution_count": 53,
     "metadata": {},
     "output_type": "execute_result"
    }
   ],
   "source": [
    "body_alive=body[body['survived']==1]\n",
    "body_alive.head()"
   ]
  },
  {
   "cell_type": "code",
   "execution_count": 54,
   "metadata": {},
   "outputs": [],
   "source": [
    "# All people with body value have died"
   ]
  },
  {
   "cell_type": "code",
   "execution_count": 55,
   "metadata": {},
   "outputs": [],
   "source": [
    "# encoding body value as 1 for people with body values !=0\n",
    "\n",
    "train['body']=np.where(train['body']!=0,1,0)\n",
    "test['body']=np.where(test['body']!=0,1,0)"
   ]
  },
  {
   "cell_type": "markdown",
   "metadata": {},
   "source": [
    "# 4. Creating training matrices"
   ]
  },
  {
   "cell_type": "code",
   "execution_count": 56,
   "metadata": {},
   "outputs": [
    {
     "name": "stdout",
     "output_type": "stream",
     "text": [
      "<class 'pandas.core.frame.DataFrame'>\n",
      "RangeIndex: 1009 entries, 0 to 1008\n",
      "Data columns (total 9 columns):\n",
      " #   Column       Non-Null Count  Dtype  \n",
      "---  ------       --------------  -----  \n",
      " 0   pclass       1009 non-null   float64\n",
      " 1   survived     1009 non-null   float64\n",
      " 2   sex          1009 non-null   int32  \n",
      " 3   age          1009 non-null   float64\n",
      " 4   embarked     1009 non-null   int32  \n",
      " 5   boat         1009 non-null   int32  \n",
      " 6   body         1009 non-null   int32  \n",
      " 7   sibsp_parch  1009 non-null   float64\n",
      " 8   isMinor      1009 non-null   int32  \n",
      "dtypes: float64(4), int32(5)\n",
      "memory usage: 51.4 KB\n"
     ]
    }
   ],
   "source": [
    "train.info()"
   ]
  },
  {
   "cell_type": "code",
   "execution_count": 57,
   "metadata": {},
   "outputs": [],
   "source": [
    "input_cols=['pclass','sex','age','embarked','boat','body','sibsp_parch','isMinor']\n",
    "X=train[input_cols]\n",
    "Y=train['survived']"
   ]
  },
  {
   "cell_type": "code",
   "execution_count": 58,
   "metadata": {},
   "outputs": [],
   "source": [
    "Xtest=test[input_cols]"
   ]
  },
  {
   "cell_type": "markdown",
   "metadata": {},
   "source": [
    "# 5. Classification"
   ]
  },
  {
   "cell_type": "markdown",
   "metadata": {},
   "source": [
    "Models to try\n",
    "- XGBOOST Classifier\n",
    "- Gradient Boosting Classifier\n",
    "- Random Forests"
   ]
  },
  {
   "cell_type": "markdown",
   "metadata": {},
   "source": [
    "## 4.1. XGBOOST Classifier"
   ]
  },
  {
   "cell_type": "code",
   "execution_count": 59,
   "metadata": {},
   "outputs": [],
   "source": [
    "import xgboost as xgb"
   ]
  },
  {
   "cell_type": "code",
   "execution_count": 60,
   "metadata": {},
   "outputs": [],
   "source": [
    "xgbClf=xgb.XGBClassifier(max_depth=4,learning_rate=0.01,\n",
    "                         booster='gbtree',n_estimators=100)"
   ]
  },
  {
   "cell_type": "code",
   "execution_count": 61,
   "metadata": {},
   "outputs": [
    {
     "data": {
      "text/plain": [
       "XGBClassifier(base_score=0.5, booster='gbtree', colsample_bylevel=1,\n",
       "              colsample_bynode=1, colsample_bytree=1, gamma=0, gpu_id=-1,\n",
       "              importance_type='gain', interaction_constraints='',\n",
       "              learning_rate=0.01, max_delta_step=0, max_depth=4,\n",
       "              min_child_weight=1, missing=nan, monotone_constraints='()',\n",
       "              n_estimators=100, n_jobs=0, num_parallel_tree=1,\n",
       "              objective='binary:logistic', random_state=0, reg_alpha=0,\n",
       "              reg_lambda=1, scale_pos_weight=1, subsample=1,\n",
       "              tree_method='exact', validate_parameters=1, verbosity=None)"
      ]
     },
     "execution_count": 61,
     "metadata": {},
     "output_type": "execute_result"
    }
   ],
   "source": [
    "xgbClf.fit(X,Y)"
   ]
  },
  {
   "cell_type": "code",
   "execution_count": 62,
   "metadata": {},
   "outputs": [
    {
     "data": {
      "text/plain": [
       "0.9781962338949455"
      ]
     },
     "execution_count": 62,
     "metadata": {},
     "output_type": "execute_result"
    }
   ],
   "source": [
    "xgbClf.score(X,Y)"
   ]
  },
  {
   "cell_type": "code",
   "execution_count": 63,
   "metadata": {},
   "outputs": [],
   "source": [
    "#Prone to Overfitting"
   ]
  },
  {
   "cell_type": "markdown",
   "metadata": {},
   "source": [
    "## 4.2. Gradient Boosting Classifier"
   ]
  },
  {
   "cell_type": "code",
   "execution_count": 64,
   "metadata": {},
   "outputs": [],
   "source": [
    "from sklearn.ensemble import GradientBoostingClassifier"
   ]
  },
  {
   "cell_type": "code",
   "execution_count": 65,
   "metadata": {},
   "outputs": [],
   "source": [
    "gbc=GradientBoostingClassifier(n_estimators=100,max_depth=5)"
   ]
  },
  {
   "cell_type": "code",
   "execution_count": 66,
   "metadata": {},
   "outputs": [
    {
     "data": {
      "text/plain": [
       "GradientBoostingClassifier(ccp_alpha=0.0, criterion='friedman_mse', init=None,\n",
       "                           learning_rate=0.1, loss='deviance', max_depth=5,\n",
       "                           max_features=None, max_leaf_nodes=None,\n",
       "                           min_impurity_decrease=0.0, min_impurity_split=None,\n",
       "                           min_samples_leaf=1, min_samples_split=2,\n",
       "                           min_weight_fraction_leaf=0.0, n_estimators=100,\n",
       "                           n_iter_no_change=None, presort='deprecated',\n",
       "                           random_state=None, subsample=1.0, tol=0.0001,\n",
       "                           validation_fraction=0.1, verbose=0,\n",
       "                           warm_start=False)"
      ]
     },
     "execution_count": 66,
     "metadata": {},
     "output_type": "execute_result"
    }
   ],
   "source": [
    "gbc.fit(X,Y)"
   ]
  },
  {
   "cell_type": "code",
   "execution_count": 67,
   "metadata": {},
   "outputs": [
    {
     "data": {
      "text/plain": [
       "0.9920713577799801"
      ]
     },
     "execution_count": 67,
     "metadata": {},
     "output_type": "execute_result"
    }
   ],
   "source": [
    "gbc.score(X,Y)"
   ]
  },
  {
   "cell_type": "code",
   "execution_count": 68,
   "metadata": {},
   "outputs": [],
   "source": [
    "#Prone to Overfitting"
   ]
  },
  {
   "cell_type": "markdown",
   "metadata": {},
   "source": [
    "## 4.3. Random Forests Classifier"
   ]
  },
  {
   "cell_type": "code",
   "execution_count": 69,
   "metadata": {},
   "outputs": [],
   "source": [
    "from sklearn.ensemble import RandomForestClassifier"
   ]
  },
  {
   "cell_type": "code",
   "execution_count": 70,
   "metadata": {},
   "outputs": [],
   "source": [
    "rf=RandomForestClassifier(n_estimators=100,criterion='gini')"
   ]
  },
  {
   "cell_type": "code",
   "execution_count": 71,
   "metadata": {},
   "outputs": [
    {
     "data": {
      "text/plain": [
       "RandomForestClassifier(bootstrap=True, ccp_alpha=0.0, class_weight=None,\n",
       "                       criterion='gini', max_depth=None, max_features='auto',\n",
       "                       max_leaf_nodes=None, max_samples=None,\n",
       "                       min_impurity_decrease=0.0, min_impurity_split=None,\n",
       "                       min_samples_leaf=1, min_samples_split=2,\n",
       "                       min_weight_fraction_leaf=0.0, n_estimators=100,\n",
       "                       n_jobs=None, oob_score=False, random_state=None,\n",
       "                       verbose=0, warm_start=False)"
      ]
     },
     "execution_count": 71,
     "metadata": {},
     "output_type": "execute_result"
    }
   ],
   "source": [
    "rf.fit(X,Y)"
   ]
  },
  {
   "cell_type": "code",
   "execution_count": 72,
   "metadata": {},
   "outputs": [
    {
     "data": {
      "text/plain": [
       "0.9920713577799801"
      ]
     },
     "execution_count": 72,
     "metadata": {},
     "output_type": "execute_result"
    }
   ],
   "source": [
    "rf.score(X,Y)"
   ]
  },
  {
   "cell_type": "markdown",
   "metadata": {},
   "source": [
    "## 4.4 Logistic Regression"
   ]
  },
  {
   "cell_type": "code",
   "execution_count": 73,
   "metadata": {},
   "outputs": [],
   "source": [
    "from sklearn.linear_model import LogisticRegression"
   ]
  },
  {
   "cell_type": "code",
   "execution_count": 74,
   "metadata": {},
   "outputs": [],
   "source": [
    "lr=LogisticRegression(solver='newton-cg')"
   ]
  },
  {
   "cell_type": "code",
   "execution_count": 75,
   "metadata": {},
   "outputs": [
    {
     "data": {
      "text/plain": [
       "LogisticRegression(C=1.0, class_weight=None, dual=False, fit_intercept=True,\n",
       "                   intercept_scaling=1, l1_ratio=None, max_iter=100,\n",
       "                   multi_class='auto', n_jobs=None, penalty='l2',\n",
       "                   random_state=None, solver='newton-cg', tol=0.0001, verbose=0,\n",
       "                   warm_start=False)"
      ]
     },
     "execution_count": 75,
     "metadata": {},
     "output_type": "execute_result"
    }
   ],
   "source": [
    "lr.fit(X,Y)"
   ]
  },
  {
   "cell_type": "code",
   "execution_count": 76,
   "metadata": {},
   "outputs": [
    {
     "data": {
      "text/plain": [
       "0.9781962338949455"
      ]
     },
     "execution_count": 76,
     "metadata": {},
     "output_type": "execute_result"
    }
   ],
   "source": [
    "lr.score(X,Y)"
   ]
  },
  {
   "cell_type": "markdown",
   "metadata": {},
   "source": [
    "# 6. Testing"
   ]
  },
  {
   "cell_type": "code",
   "execution_count": 77,
   "metadata": {},
   "outputs": [],
   "source": [
    "y_xgb=xgbClf.predict(Xtest)\n",
    "y_gbc=gbc.predict(Xtest)\n",
    "y_rf=rf.predict(Xtest)\n",
    "y_lr=lr.predict(Xtest)"
   ]
  },
  {
   "cell_type": "code",
   "execution_count": 78,
   "metadata": {},
   "outputs": [
    {
     "name": "stdout",
     "output_type": "stream",
     "text": [
      "(300,)\n",
      "(300,)\n",
      "(300,)\n",
      "(300,)\n"
     ]
    }
   ],
   "source": [
    "print(y_xgb.shape)\n",
    "print(y_gbc.shape)\n",
    "print(y_rf.shape)\n",
    "print(y_lr.shape)"
   ]
  },
  {
   "cell_type": "code",
   "execution_count": 79,
   "metadata": {},
   "outputs": [
    {
     "name": "stdout",
     "output_type": "stream",
     "text": [
      "112.0\n",
      "114.0\n",
      "113.0\n",
      "112.0\n"
     ]
    }
   ],
   "source": [
    "print(np.sum(y_xgb))\n",
    "print(np.sum(y_gbc))\n",
    "print(np.sum(y_rf))\n",
    "print(np.sum(y_lr))"
   ]
  },
  {
   "cell_type": "code",
   "execution_count": 80,
   "metadata": {},
   "outputs": [],
   "source": [
    "i=np.arange(0,300)"
   ]
  },
  {
   "cell_type": "code",
   "execution_count": 81,
   "metadata": {},
   "outputs": [],
   "source": [
    "Yxgb=pd.DataFrame({'ID':i,'survived':y_xgb})\n",
    "Ygbc=pd.DataFrame({'ID':i,'survived':y_gbc})\n",
    "Yrf=pd.DataFrame({'ID':i,'survived':y_rf})\n",
    "Ylr=pd.DataFrame({'ID':i,'survived':y_lr})"
   ]
  },
  {
   "cell_type": "code",
   "execution_count": 82,
   "metadata": {},
   "outputs": [],
   "source": [
    "Yxgb.to_csv('YXGB.csv',index=False)\n",
    "Ygbc.to_csv('YGBC.csv',index=False)\n",
    "Yrf.to_csv('YRF.csv',index=False)\n",
    "Ylr.to_csv('YLR.csv',index=False)"
   ]
  },
  {
   "cell_type": "code",
   "execution_count": 83,
   "metadata": {},
   "outputs": [],
   "source": [
    "# XGBOOST- 96% \n",
    "# Gradient Boosting- 96%\n",
    "# Random Forest- 96%\n",
    "# Logistic Regression- 96%"
   ]
  },
  {
   "cell_type": "code",
   "execution_count": null,
   "metadata": {},
   "outputs": [],
   "source": []
  }
 ],
 "metadata": {
  "kernelspec": {
   "display_name": "Python 3",
   "language": "python",
   "name": "python3"
  },
  "language_info": {
   "codemirror_mode": {
    "name": "ipython",
    "version": 3
   },
   "file_extension": ".py",
   "mimetype": "text/x-python",
   "name": "python",
   "nbconvert_exporter": "python",
   "pygments_lexer": "ipython3",
   "version": "3.7.4"
  }
 },
 "nbformat": 4,
 "nbformat_minor": 4
}
